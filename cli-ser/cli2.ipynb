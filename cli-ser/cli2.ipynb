{
 "cells": [
  {
   "cell_type": "code",
   "execution_count": 1,
   "id": "744a3502-ea4c-4963-87d9-f743546955ab",
   "metadata": {},
   "outputs": [],
   "source": [
    "import flwr as fl\n",
    "import tensorflow as tf\n",
    "from tensorflow import keras\n",
    "import sys\n",
    "import seaborn as sns\n",
    "import matplotlib.pyplot as plt\n",
    "import numpy as np\n",
    "\n",
    "def getDist(y):\n",
    "    ax = sns.countplot(y)\n",
    "    ax.set(title=\"Count of data classes\")\n",
    "    plt.show()\n",
    "\n",
    "def getData(dist, x, y):\n",
    "    dx = []\n",
    "    dy = []\n",
    "    counts = [0 for i in range(10)]\n",
    "    for i in range(len(x)):\n",
    "        if counts[y[i]]<dist[y[i]]:\n",
    "            dx.append(x[i])\n",
    "            dy.append(y[i])\n",
    "            counts[y[i]] += 1\n",
    "        \n",
    "    return np.array(dx), np.array(dy)"
   ]
  },
  {
   "cell_type": "code",
   "execution_count": 2,
   "id": "46e24108-7fcf-40a5-9308-72358d4b1476",
   "metadata": {},
   "outputs": [
    {
     "data": {
      "image/png": "[encoded data removed]",
      "text/plain": [
       "<Figure size 640x480 with 1 Axes>"
      ]
     },
     "metadata": {},
     "output_type": "display_data"
    }
   ],
   "source": [
    "(x_train, y_train), (x_test, y_test) = tf.keras.datasets.mnist.load_data()\n",
    "x_train, x_test = x_train[..., np.newaxis]/255.0, x_test[..., np.newaxis]/255.0\n",
    "dist = [4000, 4000, 4000, 3000, 10, 10, 10, 10, 4000, 10]\n",
    "x_train, y_train = getData(dist, x_train, y_train)\n",
    "getDist(y_train)"
   ]
  },
  {
   "cell_type": "code",
   "execution_count": 3,
   "id": "d5073902-23c3-401e-8b46-c66906ae2882",
   "metadata": {},
   "outputs": [
    {
     "name": "stderr",
     "output_type": "stream",
     "text": [
      "2024-02-21 01:32:44.203323: I metal_plugin/src/device/metal_device.cc:1154] Metal device set to: Apple M2\n",
      "2024-02-21 01:32:44.203344: I metal_plugin/src/device/metal_device.cc:296] systemMemory: 16.00 GB\n",
      "2024-02-21 01:32:44.203351: I metal_plugin/src/device/metal_device.cc:313] maxCacheSize: 5.33 GB\n",
      "2024-02-21 01:32:44.203377: I tensorflow/core/common_runtime/pluggable_device/pluggable_device_factory.cc:306] Could not identify NUMA node of platform GPU ID 0, defaulting to 0. Your kernel may not have been built with NUMA support.\n",
      "2024-02-21 01:32:44.203396: I tensorflow/core/common_runtime/pluggable_device/pluggable_device_factory.cc:272] Created TensorFlow device (/job:localhost/replica:0/task:0/device:GPU:0 with 0 MB memory) -> physical PluggableDevice (device: 0, name: METAL, pci bus id: <undefined>)\n"
     ]
    }
   ],
   "source": [
    "model = keras.Sequential([\n",
    "    keras.layers.Flatten(input_shape=(28,28)),\n",
    "    keras.layers.Dense(128, activation='relu'),\n",
    "    keras.layers.Dense(256, activation='relu'),\n",
    "    keras.layers.Dense(10, activation='softmax')\n",
    "])\n",
    "model.compile(\"adam\", \"sparse_categorical_crossentropy\", metrics=[\"accuracy\"])"
   ]
  },
  {
   "cell_type": "code",
   "execution_count": null,
   "id": "deeb8f22-f49b-49d3-bc8b-d814519616e7",
   "metadata": {},
   "outputs": [
    {
     "name": "stderr",
     "output_type": "stream",
     "text": [
      "WARNING flwr 2024-02-21 01:32:44,749 | logger.py:118 | \n",
      "        DEPRECATED FEATURE: flwr.client.start_numpy_client() is deprecated. \n",
      "\tInstead, use `flwr.client.start_client()` by ensuring you first call the `.to_client()` method as shown below: \n",
      "\tflwr.client.start_client(\n",
      "\t\tserver_address='<IP>:<PORT>',\n",
      "\t\tclient=FlowerClient().to_client(), # <-- where FlowerClient is of type flwr.client.NumPyClient object\n",
      "\t)\n",
      "\tUsing `start_numpy_client()` is deprecated.\n",
      "\n",
      "        This is a deprecated feature. It will be removed\n",
      "        entirely in future versions of Flower.\n",
      "        \n",
      "INFO flwr 2024-02-21 01:32:44,761 | grpc.py:52 | Opened insecure gRPC connection (no certificates were passed)\n",
      "DEBUG flwr 2024-02-21 01:32:44,762 | connection.py:55 | ChannelConnectivity.IDLE\n",
      "DEBUG flwr 2024-02-21 01:32:44,764 | connection.py:55 | ChannelConnectivity.CONNECTING\n",
      "DEBUG flwr 2024-02-21 01:32:44,765 | connection.py:55 | ChannelConnectivity.READY\n"
     ]
    }
   ],
   "source": [
    "class FlowerClient(fl.client.NumPyClient):\n",
    "    def get_parameters(self,config):\n",
    "        return model.get_weights()\n",
    "\n",
    "    def fit(self, parameters, config):\n",
    "        model.set_weights(parameters)\n",
    "        r = model.fit(x_train, y_train, epochs=1, validation_data=(x_test, y_test), verbose=0)\n",
    "        hist = r.history\n",
    "        print(\"Fit history : \" ,hist)\n",
    "        return model.get_weights(), len(x_train), {}\n",
    "\n",
    "    def evaluate(self, parameters, config):\n",
    "        model.set_weights(parameters)\n",
    "        loss, accuracy = model.evaluate(x_test, y_test, verbose=0)\n",
    "        print(\"Eval accuracy : \", accuracy)\n",
    "        return loss, len(x_test), {\"accuracy\": accuracy}\n",
    "\n",
    "fl.client.start_numpy_client(\n",
    "        server_address=\"localhost:8000\", \n",
    "        client=FlowerClient(), \n",
    "        grpc_max_message_length = 1024*1024*1024\n",
    ")"
   ]
  },
  {
   "cell_type": "code",
   "execution_count": null,
   "id": "384800f3-9b1b-407c-869f-89a220a87271",
   "metadata": {},
   "outputs": [],
   "source": []
  }
 ],
 "metadata": {
  "kernelspec": {
   "display_name": "Python 3 (ipykernel)",
   "language": "python",
   "name": "python3"
  },
  "language_info": {
   "codemirror_mode": {
    "name": "ipython",
    "version": 3
   },
   "file_extension": ".py",
   "mimetype": "text/x-python",
   "name": "python",
   "nbconvert_exporter": "python",
   "pygments_lexer": "ipython3",
   "version": "3.11.5"
  }
 },
 "nbformat": 4,
 "nbformat_minor": 5
}
