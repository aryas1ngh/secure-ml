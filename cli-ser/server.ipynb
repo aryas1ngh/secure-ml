{
 "cells": [
  {
   "cell_type": "code",
   "execution_count": 8,
   "id": "76fb3dcd-f9bd-49b5-9c67-072bcf4f0e6b",
   "metadata": {},
   "outputs": [
    {
     "name": "stdout",
     "output_type": "stream",
     "text": [
      "Collecting package metadata (current_repodata.json): done\n",
      "Solving environment: unsuccessful initial attempt using frozen solve. Retrying with flexible solve.\n",
      "Collecting package metadata (repodata.json): done\n",
      "Solving environment: unsuccessful initial attempt using frozen solve. Retrying with flexible solve.\n",
      "\n",
      "PackagesNotFoundError: The following packages are not available from current channels:\n",
      "\n",
      "  - flwr\n",
      "\n",
      "Current channels:\n",
      "\n",
      "  - https://repo.anaconda.com/pkgs/main/osx-arm64\n",
      "  - https://repo.anaconda.com/pkgs/main/noarch\n",
      "  - https://repo.anaconda.com/pkgs/r/osx-arm64\n",
      "  - https://repo.anaconda.com/pkgs/r/noarch\n",
      "\n",
      "To search for alternate channels that may provide the conda package you're\n",
      "looking for, navigate to\n",
      "\n",
      "    https://anaconda.org\n",
      "\n",
      "and use the search bar at the top of the page.\n",
      "\n",
      "\n"
     ]
    }
   ],
   "source": [
    "!conda install flwr tensorflow"
   ]
  },
  {
   "cell_type": "code",
   "execution_count": 10,
   "id": "ea112ee9-b100-4942-930c-64a8a122190f",
   "metadata": {},
   "outputs": [
    {
     "name": "stderr",
     "output_type": "stream",
     "text": [
      "INFO flwr 2024-02-21 01:32:22,328 | app.py:163 | Starting Flower server, config: ServerConfig(num_rounds=3, round_timeout=None)\n",
      "INFO flwr 2024-02-21 01:32:22,344 | app.py:176 | Flower ECE: gRPC server running (3 rounds), SSL is disabled\n",
      "INFO flwr 2024-02-21 01:32:22,345 | server.py:89 | Initializing global parameters\n",
      "INFO flwr 2024-02-21 01:32:22,346 | server.py:276 | Requesting initial parameters from one random client\n",
      "INFO flwr 2024-02-21 01:32:34,829 | server.py:280 | Received initial parameters from one random client\n",
      "INFO flwr 2024-02-21 01:32:34,829 | server.py:91 | Evaluating initial parameters\n",
      "INFO flwr 2024-02-21 01:32:34,829 | server.py:104 | FL starting\n",
      "DEBUG flwr 2024-02-21 01:32:44,765 | server.py:222 | fit_round 1: strategy sampled 2 clients (out of 2)\n",
      "DEBUG flwr 2024-02-21 01:32:45,079 | server.py:236 | fit_round 1 received 0 results and 2 failures\n"
     ]
    },
    {
     "name": "stdout",
     "output_type": "stream",
     "text": [
      "Saving round 1 aggregated_weights...\n"
     ]
    },
    {
     "ename": "KeyboardInterrupt",
     "evalue": "",
     "output_type": "error",
     "traceback": [
      "\u001b[0;31m---------------------------------------------------------------------------\u001b[0m",
      "\u001b[0;31mKeyboardInterrupt\u001b[0m                         Traceback (most recent call last)",
      "Cell \u001b[0;32mIn[10], line 21\u001b[0m\n\u001b[1;32m     17\u001b[0m         \u001b[38;5;28;01mreturn\u001b[39;00m aggregated_weights\n\u001b[1;32m     20\u001b[0m strategy \u001b[38;5;241m=\u001b[39m SaveModelStrategy()\n\u001b[0;32m---> 21\u001b[0m fl\u001b[38;5;241m.\u001b[39mserver\u001b[38;5;241m.\u001b[39mstart_server(\n\u001b[1;32m     22\u001b[0m         server_address \u001b[38;5;241m=\u001b[39m \u001b[38;5;124m'\u001b[39m\u001b[38;5;124mlocalhost:\u001b[39m\u001b[38;5;124m'\u001b[39m\u001b[38;5;241m+\u001b[39m\u001b[38;5;28mstr\u001b[39m(PORT) , \n\u001b[1;32m     23\u001b[0m         config\u001b[38;5;241m=\u001b[39mfl\u001b[38;5;241m.\u001b[39mserver\u001b[38;5;241m.\u001b[39mServerConfig(num_rounds\u001b[38;5;241m=\u001b[39m\u001b[38;5;241m3\u001b[39m) ,\n\u001b[1;32m     24\u001b[0m         grpc_max_message_length \u001b[38;5;241m=\u001b[39m \u001b[38;5;241m1024\u001b[39m\u001b[38;5;241m*\u001b[39m\u001b[38;5;241m1024\u001b[39m\u001b[38;5;241m*\u001b[39m\u001b[38;5;241m1024\u001b[39m,\n\u001b[1;32m     25\u001b[0m         strategy \u001b[38;5;241m=\u001b[39m strategy\n\u001b[1;32m     26\u001b[0m )\n",
      "File \u001b[0;32m~/miniconda3/lib/python3.11/site-packages/flwr/server/app.py:184\u001b[0m, in \u001b[0;36mstart_server\u001b[0;34m(server_address, server, config, strategy, client_manager, grpc_max_message_length, certificates)\u001b[0m\n\u001b[1;32m    176\u001b[0m log(\n\u001b[1;32m    177\u001b[0m     INFO,\n\u001b[1;32m    178\u001b[0m     \u001b[38;5;124m\"\u001b[39m\u001b[38;5;124mFlower ECE: gRPC server running (\u001b[39m\u001b[38;5;132;01m%s\u001b[39;00m\u001b[38;5;124m rounds), SSL is \u001b[39m\u001b[38;5;132;01m%s\u001b[39;00m\u001b[38;5;124m\"\u001b[39m,\n\u001b[1;32m    179\u001b[0m     initialized_config\u001b[38;5;241m.\u001b[39mnum_rounds,\n\u001b[1;32m    180\u001b[0m     \u001b[38;5;124m\"\u001b[39m\u001b[38;5;124menabled\u001b[39m\u001b[38;5;124m\"\u001b[39m \u001b[38;5;28;01mif\u001b[39;00m certificates \u001b[38;5;129;01mis\u001b[39;00m \u001b[38;5;129;01mnot\u001b[39;00m \u001b[38;5;28;01mNone\u001b[39;00m \u001b[38;5;28;01melse\u001b[39;00m \u001b[38;5;124m\"\u001b[39m\u001b[38;5;124mdisabled\u001b[39m\u001b[38;5;124m\"\u001b[39m,\n\u001b[1;32m    181\u001b[0m )\n\u001b[1;32m    183\u001b[0m \u001b[38;5;66;03m# Start training\u001b[39;00m\n\u001b[0;32m--> 184\u001b[0m hist \u001b[38;5;241m=\u001b[39m run_fl(\n\u001b[1;32m    185\u001b[0m     server\u001b[38;5;241m=\u001b[39minitialized_server,\n\u001b[1;32m    186\u001b[0m     config\u001b[38;5;241m=\u001b[39minitialized_config,\n\u001b[1;32m    187\u001b[0m )\n\u001b[1;32m    189\u001b[0m \u001b[38;5;66;03m# Stop the gRPC server\u001b[39;00m\n\u001b[1;32m    190\u001b[0m grpc_server\u001b[38;5;241m.\u001b[39mstop(grace\u001b[38;5;241m=\u001b[39m\u001b[38;5;241m1\u001b[39m)\n",
      "File \u001b[0;32m~/miniconda3/lib/python3.11/site-packages/flwr/server/app.py:225\u001b[0m, in \u001b[0;36mrun_fl\u001b[0;34m(server, config)\u001b[0m\n\u001b[1;32m    220\u001b[0m \u001b[38;5;28;01mdef\u001b[39;00m \u001b[38;5;21mrun_fl\u001b[39m(\n\u001b[1;32m    221\u001b[0m     server: Server,\n\u001b[1;32m    222\u001b[0m     config: ServerConfig,\n\u001b[1;32m    223\u001b[0m ) \u001b[38;5;241m-\u001b[39m\u001b[38;5;241m>\u001b[39m History:\n\u001b[1;32m    224\u001b[0m \u001b[38;5;250m    \u001b[39m\u001b[38;5;124;03m\"\"\"Train a model on the given server and return the History object.\"\"\"\u001b[39;00m\n\u001b[0;32m--> 225\u001b[0m     hist \u001b[38;5;241m=\u001b[39m server\u001b[38;5;241m.\u001b[39mfit(num_rounds\u001b[38;5;241m=\u001b[39mconfig\u001b[38;5;241m.\u001b[39mnum_rounds, timeout\u001b[38;5;241m=\u001b[39mconfig\u001b[38;5;241m.\u001b[39mround_timeout)\n\u001b[1;32m    226\u001b[0m     log(INFO, \u001b[38;5;124m\"\u001b[39m\u001b[38;5;124mapp_fit: losses_distributed \u001b[39m\u001b[38;5;132;01m%s\u001b[39;00m\u001b[38;5;124m\"\u001b[39m, \u001b[38;5;28mstr\u001b[39m(hist\u001b[38;5;241m.\u001b[39mlosses_distributed))\n\u001b[1;32m    227\u001b[0m     log(INFO, \u001b[38;5;124m\"\u001b[39m\u001b[38;5;124mapp_fit: metrics_distributed_fit \u001b[39m\u001b[38;5;132;01m%s\u001b[39;00m\u001b[38;5;124m\"\u001b[39m, \u001b[38;5;28mstr\u001b[39m(hist\u001b[38;5;241m.\u001b[39mmetrics_distributed_fit))\n",
      "File \u001b[0;32m~/miniconda3/lib/python3.11/site-packages/flwr/server/server.py:139\u001b[0m, in \u001b[0;36mServer.fit\u001b[0;34m(self, num_rounds, timeout)\u001b[0m\n\u001b[1;32m    134\u001b[0m     history\u001b[38;5;241m.\u001b[39madd_metrics_centralized(\n\u001b[1;32m    135\u001b[0m         server_round\u001b[38;5;241m=\u001b[39mcurrent_round, metrics\u001b[38;5;241m=\u001b[39mmetrics_cen\n\u001b[1;32m    136\u001b[0m     )\n\u001b[1;32m    138\u001b[0m \u001b[38;5;66;03m# Evaluate model on a sample of available clients\u001b[39;00m\n\u001b[0;32m--> 139\u001b[0m res_fed \u001b[38;5;241m=\u001b[39m \u001b[38;5;28mself\u001b[39m\u001b[38;5;241m.\u001b[39mevaluate_round(server_round\u001b[38;5;241m=\u001b[39mcurrent_round, timeout\u001b[38;5;241m=\u001b[39mtimeout)\n\u001b[1;32m    140\u001b[0m \u001b[38;5;28;01mif\u001b[39;00m res_fed \u001b[38;5;129;01mis\u001b[39;00m \u001b[38;5;129;01mnot\u001b[39;00m \u001b[38;5;28;01mNone\u001b[39;00m:\n\u001b[1;32m    141\u001b[0m     loss_fed, evaluate_metrics_fed, _ \u001b[38;5;241m=\u001b[39m res_fed\n",
      "File \u001b[0;32m~/miniconda3/lib/python3.11/site-packages/flwr/server/server.py:165\u001b[0m, in \u001b[0;36mServer.evaluate_round\u001b[0;34m(self, server_round, timeout)\u001b[0m\n\u001b[1;32m    163\u001b[0m \u001b[38;5;250m\u001b[39m\u001b[38;5;124;03m\"\"\"Validate current global model on a number of clients.\"\"\"\u001b[39;00m\n\u001b[1;32m    164\u001b[0m \u001b[38;5;66;03m# Get clients and their respective instructions from strategy\u001b[39;00m\n\u001b[0;32m--> 165\u001b[0m client_instructions \u001b[38;5;241m=\u001b[39m \u001b[38;5;28mself\u001b[39m\u001b[38;5;241m.\u001b[39mstrategy\u001b[38;5;241m.\u001b[39mconfigure_evaluate(\n\u001b[1;32m    166\u001b[0m     server_round\u001b[38;5;241m=\u001b[39mserver_round,\n\u001b[1;32m    167\u001b[0m     parameters\u001b[38;5;241m=\u001b[39m\u001b[38;5;28mself\u001b[39m\u001b[38;5;241m.\u001b[39mparameters,\n\u001b[1;32m    168\u001b[0m     client_manager\u001b[38;5;241m=\u001b[39m\u001b[38;5;28mself\u001b[39m\u001b[38;5;241m.\u001b[39m_client_manager,\n\u001b[1;32m    169\u001b[0m )\n\u001b[1;32m    170\u001b[0m \u001b[38;5;28;01mif\u001b[39;00m \u001b[38;5;129;01mnot\u001b[39;00m client_instructions:\n\u001b[1;32m    171\u001b[0m     log(INFO, \u001b[38;5;124m\"\u001b[39m\u001b[38;5;124mevaluate_round \u001b[39m\u001b[38;5;132;01m%s\u001b[39;00m\u001b[38;5;124m: no clients selected, cancel\u001b[39m\u001b[38;5;124m\"\u001b[39m, server_round)\n",
      "File \u001b[0;32m~/miniconda3/lib/python3.11/site-packages/flwr/server/strategy/fedavg.py:211\u001b[0m, in \u001b[0;36mFedAvg.configure_evaluate\u001b[0;34m(self, server_round, parameters, client_manager)\u001b[0m\n\u001b[1;32m    207\u001b[0m \u001b[38;5;66;03m# Sample clients\u001b[39;00m\n\u001b[1;32m    208\u001b[0m sample_size, min_num_clients \u001b[38;5;241m=\u001b[39m \u001b[38;5;28mself\u001b[39m\u001b[38;5;241m.\u001b[39mnum_evaluation_clients(\n\u001b[1;32m    209\u001b[0m     client_manager\u001b[38;5;241m.\u001b[39mnum_available()\n\u001b[1;32m    210\u001b[0m )\n\u001b[0;32m--> 211\u001b[0m clients \u001b[38;5;241m=\u001b[39m client_manager\u001b[38;5;241m.\u001b[39msample(\n\u001b[1;32m    212\u001b[0m     num_clients\u001b[38;5;241m=\u001b[39msample_size, min_num_clients\u001b[38;5;241m=\u001b[39mmin_num_clients\n\u001b[1;32m    213\u001b[0m )\n\u001b[1;32m    215\u001b[0m \u001b[38;5;66;03m# Return client/config pairs\u001b[39;00m\n\u001b[1;32m    216\u001b[0m \u001b[38;5;28;01mreturn\u001b[39;00m [(client, evaluate_ins) \u001b[38;5;28;01mfor\u001b[39;00m client \u001b[38;5;129;01min\u001b[39;00m clients]\n",
      "File \u001b[0;32m~/miniconda3/lib/python3.11/site-packages/flwr/server/client_manager.py:187\u001b[0m, in \u001b[0;36mSimpleClientManager.sample\u001b[0;34m(self, num_clients, min_num_clients, criterion)\u001b[0m\n\u001b[1;32m    185\u001b[0m \u001b[38;5;28;01mif\u001b[39;00m min_num_clients \u001b[38;5;129;01mis\u001b[39;00m \u001b[38;5;28;01mNone\u001b[39;00m:\n\u001b[1;32m    186\u001b[0m     min_num_clients \u001b[38;5;241m=\u001b[39m num_clients\n\u001b[0;32m--> 187\u001b[0m \u001b[38;5;28mself\u001b[39m\u001b[38;5;241m.\u001b[39mwait_for(min_num_clients)\n\u001b[1;32m    188\u001b[0m \u001b[38;5;66;03m# Sample clients which meet the criterion\u001b[39;00m\n\u001b[1;32m    189\u001b[0m available_cids \u001b[38;5;241m=\u001b[39m \u001b[38;5;28mlist\u001b[39m(\u001b[38;5;28mself\u001b[39m\u001b[38;5;241m.\u001b[39mclients)\n",
      "File \u001b[0;32m~/miniconda3/lib/python3.11/site-packages/flwr/server/client_manager.py:132\u001b[0m, in \u001b[0;36mSimpleClientManager.wait_for\u001b[0;34m(self, num_clients, timeout)\u001b[0m\n\u001b[1;32m    115\u001b[0m \u001b[38;5;250m\u001b[39m\u001b[38;5;124;03m\"\"\"Wait until at least `num_clients` are available.\u001b[39;00m\n\u001b[1;32m    116\u001b[0m \n\u001b[1;32m    117\u001b[0m \u001b[38;5;124;03mBlocks until the requested number of clients is available or until a\u001b[39;00m\n\u001b[0;32m   (...)\u001b[0m\n\u001b[1;32m    129\u001b[0m \u001b[38;5;124;03msuccess : bool\u001b[39;00m\n\u001b[1;32m    130\u001b[0m \u001b[38;5;124;03m\"\"\"\u001b[39;00m\n\u001b[1;32m    131\u001b[0m \u001b[38;5;28;01mwith\u001b[39;00m \u001b[38;5;28mself\u001b[39m\u001b[38;5;241m.\u001b[39m_cv:\n\u001b[0;32m--> 132\u001b[0m     \u001b[38;5;28;01mreturn\u001b[39;00m \u001b[38;5;28mself\u001b[39m\u001b[38;5;241m.\u001b[39m_cv\u001b[38;5;241m.\u001b[39mwait_for(\n\u001b[1;32m    133\u001b[0m         \u001b[38;5;28;01mlambda\u001b[39;00m: \u001b[38;5;28mlen\u001b[39m(\u001b[38;5;28mself\u001b[39m\u001b[38;5;241m.\u001b[39mclients) \u001b[38;5;241m>\u001b[39m\u001b[38;5;241m=\u001b[39m num_clients, timeout\u001b[38;5;241m=\u001b[39mtimeout\n\u001b[1;32m    134\u001b[0m     )\n",
      "File \u001b[0;32m~/miniconda3/lib/python3.11/threading.py:355\u001b[0m, in \u001b[0;36mCondition.wait_for\u001b[0;34m(self, predicate, timeout)\u001b[0m\n\u001b[1;32m    353\u001b[0m             \u001b[38;5;28;01mif\u001b[39;00m waittime \u001b[38;5;241m<\u001b[39m\u001b[38;5;241m=\u001b[39m \u001b[38;5;241m0\u001b[39m:\n\u001b[1;32m    354\u001b[0m                 \u001b[38;5;28;01mbreak\u001b[39;00m\n\u001b[0;32m--> 355\u001b[0m     \u001b[38;5;28mself\u001b[39m\u001b[38;5;241m.\u001b[39mwait(waittime)\n\u001b[1;32m    356\u001b[0m     result \u001b[38;5;241m=\u001b[39m predicate()\n\u001b[1;32m    357\u001b[0m \u001b[38;5;28;01mreturn\u001b[39;00m result\n",
      "File \u001b[0;32m~/miniconda3/lib/python3.11/threading.py:324\u001b[0m, in \u001b[0;36mCondition.wait\u001b[0;34m(self, timeout)\u001b[0m\n\u001b[1;32m    322\u001b[0m \u001b[38;5;28;01melse\u001b[39;00m:\n\u001b[1;32m    323\u001b[0m     \u001b[38;5;28;01mif\u001b[39;00m timeout \u001b[38;5;241m>\u001b[39m \u001b[38;5;241m0\u001b[39m:\n\u001b[0;32m--> 324\u001b[0m         gotit \u001b[38;5;241m=\u001b[39m waiter\u001b[38;5;241m.\u001b[39macquire(\u001b[38;5;28;01mTrue\u001b[39;00m, timeout)\n\u001b[1;32m    325\u001b[0m     \u001b[38;5;28;01melse\u001b[39;00m:\n\u001b[1;32m    326\u001b[0m         gotit \u001b[38;5;241m=\u001b[39m waiter\u001b[38;5;241m.\u001b[39macquire(\u001b[38;5;28;01mFalse\u001b[39;00m)\n",
      "\u001b[0;31mKeyboardInterrupt\u001b[0m: "
     ]
    }
   ],
   "source": [
    "import flwr as fl\n",
    "import sys\n",
    "import numpy as np\n",
    "PORT= 8000\n",
    "\n",
    "class SaveModelStrategy(fl.server.strategy.FedAvg):\n",
    "    def aggregate_fit(\n",
    "        self,\n",
    "        rnd,\n",
    "        results,\n",
    "        failures\n",
    "    ):\n",
    "        aggregated_weights = super().aggregate_fit(rnd, results, failures)\n",
    "        if aggregated_weights is not None:\n",
    "            print(f\"Saving round {rnd} aggregated_weights...\")\n",
    "            np.savez(f\"round-{rnd}-weights.npz\", *aggregated_weights)\n",
    "        return aggregated_weights\n",
    "\n",
    "\n",
    "strategy = SaveModelStrategy()\n",
    "fl.server.start_server(\n",
    "        server_address = 'localhost:'+str(PORT) , \n",
    "        config=fl.server.ServerConfig(num_rounds=3) ,\n",
    "        grpc_max_message_length = 1024*1024*1024,\n",
    "        strategy = strategy\n",
    ")"
   ]
  },
  {
   "cell_type": "code",
   "execution_count": null,
   "id": "4610fd18-aecb-4e3c-8434-4d8df457b5ea",
   "metadata": {},
   "outputs": [],
   "source": []
  }
 ],
 "metadata": {
  "kernelspec": {
   "display_name": "Python 3 (ipykernel)",
   "language": "python",
   "name": "python3"
  },
  "language_info": {
   "codemirror_mode": {
    "name": "ipython",
    "version": 3
   },
   "file_extension": ".py",
   "mimetype": "text/x-python",
   "name": "python",
   "nbconvert_exporter": "python",
   "pygments_lexer": "ipython3",
   "version": "3.11.5"
  }
 },
 "nbformat": 4,
 "nbformat_minor": 5
}
