{
 "cells": [
  {
   "cell_type": "code",
   "execution_count": 5,
   "id": "6a7280d4",
   "metadata": {},
   "outputs": [
    {
     "name": "stderr",
     "output_type": "stream",
     "text": [
      "C:\\ProgramData\\Anaconda3\\lib\\site-packages\\seaborn\\_decorators.py:36: FutureWarning: Pass the following variable as a keyword arg: x. From version 0.12, the only valid positional argument will be `data`, and passing other arguments without an explicit keyword will result in an error or misinterpretation.\n",
      "  warnings.warn(\n"
     ]
    },
    {
     "data": {
      "image/png": "[encoded data removed]",
      "text/plain": [
       "<Figure size 640x480 with 1 Axes>"
      ]
     },
     "metadata": {},
     "output_type": "display_data"
    }
   ],
   "source": [
    "import flwr as fl\n",
    "import tensorflow as tf\n",
    "from tensorflow import keras\n",
    "import sys\n",
    "import seaborn as sns\n",
    "import matplotlib.pyplot as plt\n",
    "import numpy as np\n",
    "from keras.models import Sequential\n",
    "from keras.layers import Conv2D, MaxPooling2D, Flatten, Dense\n",
    "\n",
    "def getDist(y):\n",
    "    ax = sns.countplot(y)\n",
    "    ax.set(title=\"Count of data classes\")\n",
    "    plt.show()\n",
    "\n",
    "def getData(dist, x, y):\n",
    "    dx = []\n",
    "    dy = []\n",
    "    counts = [0 for i in range(10)]\n",
    "    for i in range(len(x)):\n",
    "        if counts[y[i]]<dist[y[i]]:\n",
    "            dx.append(x[i])\n",
    "            dy.append(y[i])\n",
    "            counts[y[i]] += 1\n",
    "        \n",
    "    return np.array(dx), np.array(dy)\n",
    "\n",
    "model = keras.Sequential([\n",
    "    keras.layers.Flatten(input_shape=(28,28)),\n",
    "    keras.layers.Dense(128, activation='relu'),\n",
    "    keras.layers.Dense(256, activation='relu'),\n",
    "    keras.layers.Dense(10, activation='softmax')\n",
    "])\n",
    "# model = Sequential()\n",
    "# model.add(Conv2D(32, (3, 3), activation='relu', input_shape=(28, 28, 1)))\n",
    "# model.add(MaxPooling2D((2, 2)))\n",
    "# model.add(Conv2D(64, (3, 3), activation='relu'))\n",
    "# model.add(MaxPooling2D((2, 2)))\n",
    "# model.add(Conv2D(64, (3, 3), activation='relu'))\n",
    "# model.add(Flatten())\n",
    "# model.add(Dense(64, activation='relu'))\n",
    "# model.add(Dense(10, activation='softmax'))\n",
    "model.compile(\"adam\", \"sparse_categorical_crossentropy\", metrics=[\"accuracy\"])\n",
    "\n",
    "\n",
    "(x_train, y_train), (x_test, y_test) = tf.keras.datasets.mnist.load_data()\n",
    "x_train, x_test = x_train[..., np.newaxis]/255.0, x_test[..., np.newaxis]/255.0\n",
    "dist = [4000, 4000, 4000, 3000, 10, 10, 10, 10, 4000, 10]\n",
    "x_train, y_train = getData(dist, x_train, y_train)\n",
    "getDist(y_train)\n",
    "\n"
   ]
  },
  {
   "cell_type": "code",
   "execution_count": 6,
   "id": "eaa025d0",
   "metadata": {},
   "outputs": [
    {
     "name": "stderr",
     "output_type": "stream",
     "text": [
      "INFO flower 2023-11-28 23:44:50,907 | connection.py:102 | Opened insecure gRPC connection (no certificates were passed)\n",
      "DEBUG flower 2023-11-28 23:44:50,921 | connection.py:39 | ChannelConnectivity.IDLE\n",
      "DEBUG flower 2023-11-28 23:44:50,942 | connection.py:39 | ChannelConnectivity.READY\n"
     ]
    },
    {
     "name": "stdout",
     "output_type": "stream",
     "text": [
      "Epoch 1/10\n",
      "298/298 [==============================] - 9s 19ms/step - loss: 0.2456 - accuracy: 0.9284 - val_loss: 2.5830 - val_accuracy: 0.4984\n",
      "Epoch 2/10\n",
      "298/298 [==============================] - 3s 11ms/step - loss: 0.0914 - accuracy: 0.9724 - val_loss: 2.1037 - val_accuracy: 0.5102\n",
      "Epoch 3/10\n",
      "298/298 [==============================] - 3s 11ms/step - loss: 0.0572 - accuracy: 0.9824 - val_loss: 1.8406 - val_accuracy: 0.5979\n",
      "Epoch 4/10\n",
      "298/298 [==============================] - 5s 18ms/step - loss: 0.0387 - accuracy: 0.9886 - val_loss: 1.6099 - val_accuracy: 0.6336\n",
      "Epoch 5/10\n",
      "298/298 [==============================] - 5s 18ms/step - loss: 0.0239 - accuracy: 0.9928 - val_loss: 1.9350 - val_accuracy: 0.6260\n",
      "Epoch 6/10\n",
      "298/298 [==============================] - 3s 11ms/step - loss: 0.0191 - accuracy: 0.9943 - val_loss: 2.1128 - val_accuracy: 0.6165\n",
      "Epoch 7/10\n",
      "298/298 [==============================] - 5s 18ms/step - loss: 0.0151 - accuracy: 0.9955 - val_loss: 2.4477 - val_accuracy: 0.6224\n",
      "Epoch 8/10\n",
      "298/298 [==============================] - 4s 12ms/step - loss: 0.0100 - accuracy: 0.9967 - val_loss: 2.1416 - val_accuracy: 0.6523\n",
      "Epoch 9/10\n",
      "298/298 [==============================] - 6s 19ms/step - loss: 0.0101 - accuracy: 0.9968 - val_loss: 2.1370 - val_accuracy: 0.6528\n",
      "Epoch 10/10\n",
      "298/298 [==============================] - 3s 11ms/step - loss: 0.0089 - accuracy: 0.9970 - val_loss: 2.3820 - val_accuracy: 0.6494\n",
      "Fit history :  {'loss': [0.24555543065071106, 0.09140152484178543, 0.0571698397397995, 0.038715679198503494, 0.02385799214243889, 0.019136156886816025, 0.015093055553734303, 0.009983649477362633, 0.010122491978108883, 0.008904115296900272], 'accuracy': [0.9283989667892456, 0.9724409580230713, 0.982414722442627, 0.9886088967323303, 0.9927558898925781, 0.9943307042121887, 0.9954855442047119, 0.9967454075813293, 0.9967979192733765, 0.9970078468322754], 'val_loss': [2.5830471515655518, 2.1037051677703857, 1.84062659740448, 1.6098709106445312, 1.935034155845642, 2.1127567291259766, 2.447709083557129, 2.141566514968872, 2.1369869709014893, 2.3819587230682373], 'val_accuracy': [0.4984000027179718, 0.510200023651123, 0.5978999733924866, 0.6335999965667725, 0.6259999871253967, 0.6165000200271606, 0.6223999857902527, 0.6523000001907349, 0.6528000235557556, 0.649399995803833]}\n",
      "Eval accuracy :  0.8519999980926514\n",
      "Epoch 1/10\n",
      "298/298 [==============================] - 3s 11ms/step - loss: 0.0620 - accuracy: 0.9793 - val_loss: 1.3880 - val_accuracy: 0.7049\n",
      "Epoch 2/10\n",
      "298/298 [==============================] - 5s 17ms/step - loss: 0.0202 - accuracy: 0.9935 - val_loss: 1.7415 - val_accuracy: 0.6722\n",
      "Epoch 3/10\n",
      "298/298 [==============================] - 3s 12ms/step - loss: 0.0100 - accuracy: 0.9973 - val_loss: 1.8636 - val_accuracy: 0.6517\n",
      "Epoch 4/10\n",
      "298/298 [==============================] - 3s 11ms/step - loss: 0.0084 - accuracy: 0.9976 - val_loss: 2.0040 - val_accuracy: 0.6503\n",
      "Epoch 5/10\n",
      "298/298 [==============================] - 6s 21ms/step - loss: 0.0076 - accuracy: 0.9976 - val_loss: 2.2268 - val_accuracy: 0.6472\n",
      "Epoch 6/10\n",
      "298/298 [==============================] - 6s 21ms/step - loss: 0.0029 - accuracy: 0.9993 - val_loss: 2.1808 - val_accuracy: 0.6799\n",
      "Epoch 7/10\n",
      "298/298 [==============================] - 4s 13ms/step - loss: 0.0101 - accuracy: 0.9967 - val_loss: 2.3389 - val_accuracy: 0.6685\n",
      "Epoch 8/10\n",
      "298/298 [==============================] - 6s 21ms/step - loss: 0.0048 - accuracy: 0.9982 - val_loss: 2.4787 - val_accuracy: 0.6719\n",
      "Epoch 9/10\n",
      "298/298 [==============================] - 4s 13ms/step - loss: 0.0019 - accuracy: 0.9995 - val_loss: 2.6786 - val_accuracy: 0.6725\n",
      "Epoch 10/10\n",
      "298/298 [==============================] - 6s 20ms/step - loss: 2.2480e-04 - accuracy: 1.0000 - val_loss: 2.6927 - val_accuracy: 0.6801\n",
      "Fit history :  {'loss': [0.06201727315783501, 0.020219149067997932, 0.01002313382923603, 0.008436976931989193, 0.007564452942460775, 0.0029019357170909643, 0.010122234001755714, 0.0048025441356003284, 0.0019369290675967932, 0.00022479718609247357], 'accuracy': [0.9793176054954529, 0.9935433268547058, 0.9972703456878662, 0.9976378083229065, 0.9975852966308594, 0.9993175864219666, 0.9966928958892822, 0.9981627464294434, 0.9995275735855103, 1.0], 'val_loss': [1.3880490064620972, 1.7415419816970825, 1.8636054992675781, 2.0039970874786377, 2.2267796993255615, 2.180844306945801, 2.3388798236846924, 2.4787352085113525, 2.6785666942596436, 2.692664861679077], 'val_accuracy': [0.7049000263214111, 0.6722000241279602, 0.6517000198364258, 0.6503000259399414, 0.6471999883651733, 0.6798999905586243, 0.6685000061988831, 0.6718999743461609, 0.6725000143051147, 0.6801000237464905]}\n",
      "Eval accuracy :  0.906000018119812\n",
      "Epoch 1/10\n",
      "298/298 [==============================] - 7s 23ms/step - loss: 0.0489 - accuracy: 0.9851 - val_loss: 1.9629 - val_accuracy: 0.6630\n",
      "Epoch 2/10\n",
      "298/298 [==============================] - 6s 21ms/step - loss: 0.0107 - accuracy: 0.9969 - val_loss: 2.0179 - val_accuracy: 0.6742\n",
      "Epoch 3/10\n",
      "298/298 [==============================] - 4s 13ms/step - loss: 0.0035 - accuracy: 0.9993 - val_loss: 2.1444 - val_accuracy: 0.6959\n",
      "Epoch 4/10\n",
      "298/298 [==============================] - 6s 20ms/step - loss: 0.0017 - accuracy: 0.9997 - val_loss: 2.2644 - val_accuracy: 0.6933\n",
      "Epoch 5/10\n",
      "298/298 [==============================] - 4s 12ms/step - loss: 0.0043 - accuracy: 0.9989 - val_loss: 2.3644 - val_accuracy: 0.6869\n",
      "Epoch 6/10\n",
      "298/298 [==============================] - 6s 20ms/step - loss: 9.7123e-04 - accuracy: 0.9998 - val_loss: 2.5083 - val_accuracy: 0.6843\n",
      "Epoch 7/10\n",
      "298/298 [==============================] - 4s 14ms/step - loss: 3.1622e-04 - accuracy: 0.9999 - val_loss: 2.4328 - val_accuracy: 0.6946\n",
      "Epoch 8/10\n",
      "298/298 [==============================] - 7s 24ms/step - loss: 1.0309e-04 - accuracy: 1.0000 - val_loss: 2.4803 - val_accuracy: 0.6965\n",
      "Epoch 9/10\n",
      "298/298 [==============================] - 4s 14ms/step - loss: 7.5898e-05 - accuracy: 1.0000 - val_loss: 2.5451 - val_accuracy: 0.6968\n",
      "Epoch 10/10\n",
      "298/298 [==============================] - 6s 21ms/step - loss: 6.0104e-05 - accuracy: 1.0000 - val_loss: 2.5531 - val_accuracy: 0.6993\n",
      "Fit history :  {'loss': [0.048917509615421295, 0.010693280957639217, 0.0034544640220701694, 0.001694526756182313, 0.004304675851017237, 0.000971228233538568, 0.00031622499227523804, 0.00010308804485248402, 7.589808956254274e-05, 6.010448487359099e-05], 'accuracy': [0.9850918650627136, 0.9968503713607788, 0.9992650747299194, 0.999737560749054, 0.9988976120948792, 0.9998425245285034, 0.9999474883079529, 1.0, 1.0, 1.0], 'val_loss': [1.9628784656524658, 2.0179443359375, 2.144368886947632, 2.2644448280334473, 2.364392042160034, 2.508321762084961, 2.4328253269195557, 2.480332136154175, 2.5451273918151855, 2.553129196166992], 'val_accuracy': [0.6629999876022339, 0.6741999983787537, 0.695900022983551, 0.6933000087738037, 0.6869000196456909, 0.6843000054359436, 0.694599986076355, 0.6965000033378601, 0.6967999935150146, 0.6992999911308289]}\n",
      "Eval accuracy :  0.9363999962806702\n"
     ]
    },
    {
     "name": "stderr",
     "output_type": "stream",
     "text": [
      "DEBUG flower 2023-11-28 23:48:00,849 | connection.py:121 | gRPC channel closed\n",
      "INFO flower 2023-11-28 23:48:00,857 | app.py:149 | Disconnect and shut down\n"
     ]
    }
   ],
   "source": [
    "class FlowerClient(fl.client.NumPyClient):\n",
    "    def get_parameters(self,config):\n",
    "        return model.get_weights()\n",
    "\n",
    "    def fit(self, parameters, config):\n",
    "        model.set_weights(parameters)\n",
    "        r = model.fit(x_train, y_train, epochs=10, batch_size=64, validation_data=(x_test, y_test), verbose=1)\n",
    "        hist = r.history\n",
    "        print(\"Fit history : \" ,hist)\n",
    "        return model.get_weights(), len(x_train), {}\n",
    "\n",
    "    def evaluate(self, parameters, config):\n",
    "        model.set_weights(parameters)\n",
    "        loss, accuracy = model.evaluate(x_test, y_test, verbose=0)\n",
    "        print(\"Eval accuracy : \", accuracy)\n",
    "        return loss, len(x_test), {\"accuracy\": accuracy}\n",
    "\n",
    "PORT=5010\n",
    "fl.client.start_numpy_client(\n",
    "        server_address='localhost:'+str(PORT), \n",
    "        client=FlowerClient(), \n",
    "        grpc_max_message_length = 1024*1024*1024\n",
    ")"
   ]
  },
  {
   "cell_type": "code",
   "execution_count": 8,
   "id": "c889d81a",
   "metadata": {},
   "outputs": [
    {
     "name": "stdout",
     "output_type": "stream",
     "text": [
      "Model: \"sequential\"\n",
      "_________________________________________________________________\n",
      " Layer (type)                Output Shape              Param #   \n",
      "=================================================================\n",
      " flatten (Flatten)           (None, 784)               0         \n",
      "                                                                 \n",
      " dense (Dense)               (None, 128)               100480    \n",
      "                                                                 \n",
      " dense_1 (Dense)             (None, 256)               33024     \n",
      "                                                                 \n",
      " dense_2 (Dense)             (None, 10)                2570      \n",
      "                                                                 \n",
      "=================================================================\n",
      "Total params: 136,074\n",
      "Trainable params: 136,074\n",
      "Non-trainable params: 0\n",
      "_________________________________________________________________\n",
      "None\n"
     ]
    }
   ],
   "source": [
    "print(model.summary())"
   ]
  },
  {
   "cell_type": "code",
   "execution_count": null,
   "id": "29f0aac8",
   "metadata": {},
   "outputs": [],
   "source": []
  }
 ],
 "metadata": {
  "kernelspec": {
   "display_name": "Python 3 (ipykernel)",
   "language": "python",
   "name": "python3"
  },
  "language_info": {
   "codemirror_mode": {
    "name": "ipython",
    "version": 3
   },
   "file_extension": ".py",
   "mimetype": "text/x-python",
   "name": "python",
   "nbconvert_exporter": "python",
   "pygments_lexer": "ipython3",
   "version": "3.9.13"
  }
 },
 "nbformat": 4,
 "nbformat_minor": 5
}
