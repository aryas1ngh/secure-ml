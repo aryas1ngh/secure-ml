{
 "cells": [
  {
   "cell_type": "code",
   "execution_count": 5,
   "id": "8f108aca",
   "metadata": {},
   "outputs": [
    {
     "name": "stderr",
     "output_type": "stream",
     "text": [
      "C:\\ProgramData\\Anaconda3\\lib\\site-packages\\seaborn\\_decorators.py:36: FutureWarning: Pass the following variable as a keyword arg: x. From version 0.12, the only valid positional argument will be `data`, and passing other arguments without an explicit keyword will result in an error or misinterpretation.\n",
      "  warnings.warn(\n"
     ]
    },
    {
     "data": {
      "image/png": "[encoded data removed]",
      "text/plain": [
       "<Figure size 640x480 with 1 Axes>"
      ]
     },
     "metadata": {},
     "output_type": "display_data"
    }
   ],
   "source": [
    "import flwr as fl\n",
    "import tensorflow as tf\n",
    "from tensorflow import keras\n",
    "import sys\n",
    "import seaborn as sns\n",
    "import matplotlib.pyplot as plt\n",
    "import numpy as np\n",
    "from keras.models import Sequential\n",
    "from keras.layers import Conv2D, MaxPooling2D, Flatten, Dense\n",
    "\n",
    "def getDist(y):\n",
    "    ax = sns.countplot(y)\n",
    "    ax.set(title=\"Count of data classes\")\n",
    "    plt.show()\n",
    "\n",
    "def getData(dist, x, y):\n",
    "    dx = []\n",
    "    dy = []\n",
    "    counts = [0 for i in range(10)]\n",
    "    for i in range(len(x)):\n",
    "        if counts[y[i]]<dist[y[i]]:\n",
    "            dx.append(x[i])\n",
    "            dy.append(y[i])\n",
    "            counts[y[i]] += 1\n",
    "        \n",
    "    return np.array(dx), np.array(dy)\n",
    "\n",
    "model = keras.Sequential([\n",
    "    keras.layers.Flatten(input_shape=(28,28)),\n",
    "    keras.layers.Dense(128, activation='relu'),\n",
    "    keras.layers.Dense(256, activation='relu'),\n",
    "    keras.layers.Dense(10, activation='softmax')\n",
    "])\n",
    "# model = Sequential()\n",
    "# model.add(Conv2D(32, (3, 3), activation='relu', input_shape=(28, 28, 1)))\n",
    "# model.add(MaxPooling2D((2, 2)))\n",
    "# model.add(Conv2D(64, (3, 3), activation='relu'))\n",
    "# model.add(MaxPooling2D((2, 2)))\n",
    "# model.add(Conv2D(64, (3, 3), activation='relu'))\n",
    "# model.add(Flatten())\n",
    "# model.add(Dense(64, activation='relu'))\n",
    "# model.add(Dense(10, activation='softmax'))\n",
    "model.compile(\"adam\", \"sparse_categorical_crossentropy\", metrics=[\"accuracy\"])\n",
    "\n",
    "\n",
    "(x_train, y_train), (x_test, y_test) = tf.keras.datasets.mnist.load_data()\n",
    "x_train, x_test = x_train[..., np.newaxis]/255.0, x_test[..., np.newaxis]/255.0\n",
    "dist = [0, 10, 10, 10, 4000, 3000, 4000, 5000, 10, 4500]\n",
    "x_train, y_train = getData(dist, x_train, y_train)\n",
    "getDist(y_train)\n"
   ]
  },
  {
   "cell_type": "code",
   "execution_count": 6,
   "id": "86f606c0",
   "metadata": {},
   "outputs": [
    {
     "name": "stderr",
     "output_type": "stream",
     "text": [
      "INFO flower 2023-11-28 23:44:54,813 | connection.py:102 | Opened insecure gRPC connection (no certificates were passed)\n",
      "DEBUG flower 2023-11-28 23:44:54,842 | connection.py:39 | ChannelConnectivity.IDLE\n",
      "DEBUG flower 2023-11-28 23:44:54,859 | connection.py:39 | ChannelConnectivity.READY\n"
     ]
    },
    {
     "name": "stdout",
     "output_type": "stream",
     "text": [
      "Epoch 1/10\n",
      "321/321 [==============================] - 8s 18ms/step - loss: 0.2552 - accuracy: 0.9244 - val_loss: 3.2643 - val_accuracy: 0.4686\n",
      "Epoch 2/10\n",
      "321/321 [==============================] - 3s 10ms/step - loss: 0.0887 - accuracy: 0.9735 - val_loss: 2.2213 - val_accuracy: 0.4957\n",
      "Epoch 3/10\n",
      "321/321 [==============================] - 3s 10ms/step - loss: 0.0541 - accuracy: 0.9825 - val_loss: 2.5290 - val_accuracy: 0.5240\n",
      "Epoch 4/10\n",
      "321/321 [==============================] - 6s 18ms/step - loss: 0.0366 - accuracy: 0.9881 - val_loss: 2.3765 - val_accuracy: 0.6165\n",
      "Epoch 5/10\n",
      "321/321 [==============================] - 5s 17ms/step - loss: 0.0237 - accuracy: 0.9923 - val_loss: 2.3849 - val_accuracy: 0.6285\n",
      "Epoch 6/10\n",
      "321/321 [==============================] - 3s 10ms/step - loss: 0.0169 - accuracy: 0.9950 - val_loss: 2.6958 - val_accuracy: 0.6128\n",
      "Epoch 7/10\n",
      "321/321 [==============================] - 6s 17ms/step - loss: 0.0143 - accuracy: 0.9956 - val_loss: 2.9265 - val_accuracy: 0.6253\n",
      "Epoch 8/10\n",
      "321/321 [==============================] - 4s 11ms/step - loss: 0.0133 - accuracy: 0.9955 - val_loss: 3.6034 - val_accuracy: 0.5853\n",
      "Epoch 9/10\n",
      "321/321 [==============================] - 6s 19ms/step - loss: 0.0128 - accuracy: 0.9957 - val_loss: 3.0872 - val_accuracy: 0.6237\n",
      "Epoch 10/10\n",
      "321/321 [==============================] - 3s 11ms/step - loss: 0.0052 - accuracy: 0.9986 - val_loss: 2.9461 - val_accuracy: 0.6598\n",
      "Fit history :  {'loss': [0.255167156457901, 0.08869058638811111, 0.054087210446596146, 0.03659380227327347, 0.023665262386202812, 0.016883447766304016, 0.014257830567657948, 0.013292779214680195, 0.01282073650509119, 0.005245768465101719], 'accuracy': [0.9243914484977722, 0.9734663963317871, 0.9824731945991516, 0.9881207346916199, 0.9922590255737305, 0.9949854016304016, 0.9956182837486267, 0.995472252368927, 0.9957156777381897, 0.998636782169342], 'val_loss': [3.264277458190918, 2.221251964569092, 2.5290229320526123, 2.3765249252319336, 2.3849332332611084, 2.6958260536193848, 2.9264724254608154, 3.6033992767333984, 3.08720326423645, 2.9460928440093994], 'val_accuracy': [0.46860000491142273, 0.49570000171661377, 0.5239999890327454, 0.6165000200271606, 0.6284999847412109, 0.6128000020980835, 0.6252999901771545, 0.5853000283241272, 0.6237000226974487, 0.6597999930381775]}\n",
      "Eval accuracy :  0.8519999980926514\n",
      "Epoch 1/10\n",
      "321/321 [==============================] - 3s 10ms/step - loss: 0.0576 - accuracy: 0.9802 - val_loss: 1.8723 - val_accuracy: 0.6347\n",
      "Epoch 2/10\n",
      "321/321 [==============================] - 5s 16ms/step - loss: 0.0169 - accuracy: 0.9945 - val_loss: 2.8286 - val_accuracy: 0.5879\n",
      "Epoch 3/10\n",
      "321/321 [==============================] - 3s 11ms/step - loss: 0.0118 - accuracy: 0.9962 - val_loss: 2.5238 - val_accuracy: 0.6338\n",
      "Epoch 4/10\n",
      "321/321 [==============================] - 5s 16ms/step - loss: 0.0075 - accuracy: 0.9975 - val_loss: 2.8024 - val_accuracy: 0.6369\n",
      "Epoch 5/10\n",
      "321/321 [==============================] - 7s 21ms/step - loss: 0.0071 - accuracy: 0.9978 - val_loss: 2.8997 - val_accuracy: 0.6460\n",
      "Epoch 6/10\n",
      "321/321 [==============================] - 4s 13ms/step - loss: 0.0062 - accuracy: 0.9982 - val_loss: 2.7856 - val_accuracy: 0.6551\n",
      "Epoch 7/10\n",
      "321/321 [==============================] - 6s 20ms/step - loss: 0.0074 - accuracy: 0.9975 - val_loss: 3.0014 - val_accuracy: 0.6385\n",
      "Epoch 8/10\n",
      "321/321 [==============================] - 7s 21ms/step - loss: 0.0091 - accuracy: 0.9967 - val_loss: 3.3398 - val_accuracy: 0.6208\n",
      "Epoch 9/10\n",
      "321/321 [==============================] - 7s 20ms/step - loss: 0.0042 - accuracy: 0.9988 - val_loss: 3.3695 - val_accuracy: 0.6433\n",
      "Epoch 10/10\n",
      "321/321 [==============================] - 4s 12ms/step - loss: 0.0080 - accuracy: 0.9975 - val_loss: 3.5184 - val_accuracy: 0.6511\n",
      "Fit history :  {'loss': [0.05760536715388298, 0.016925886273384094, 0.011842060834169388, 0.007472705096006393, 0.0071115028113126755, 0.006153893191367388, 0.0073870220221579075, 0.009116911329329014, 0.004208344500511885, 0.007960565388202667], 'accuracy': [0.9802336692810059, 0.9944985508918762, 0.9962025284767151, 0.9975170493125916, 0.9977604746818542, 0.9982473254203796, 0.9975170493125916, 0.9966893792152405, 0.9987828731536865, 0.9974683523178101], 'val_loss': [1.8723416328430176, 2.8285980224609375, 2.523772716522217, 2.8023643493652344, 2.899740695953369, 2.7856388092041016, 3.001411199569702, 3.3398118019104004, 3.369535446166992, 3.5184245109558105], 'val_accuracy': [0.6347000002861023, 0.5878999829292297, 0.6338000297546387, 0.636900007724762, 0.6460000276565552, 0.6550999879837036, 0.6384999752044678, 0.6208000183105469, 0.6432999968528748, 0.6510999798774719]}\n",
      "Eval accuracy :  0.906000018119812\n",
      "Epoch 1/10\n",
      "321/321 [==============================] - 7s 21ms/step - loss: 0.0314 - accuracy: 0.9887 - val_loss: 2.3468 - val_accuracy: 0.6373\n",
      "Epoch 2/10\n",
      "321/321 [==============================] - 4s 12ms/step - loss: 0.0097 - accuracy: 0.9968 - val_loss: 2.5131 - val_accuracy: 0.6732\n",
      "Epoch 3/10\n",
      "321/321 [==============================] - 6s 19ms/step - loss: 0.0043 - accuracy: 0.9987 - val_loss: 2.3924 - val_accuracy: 0.6851\n",
      "Epoch 4/10\n",
      "321/321 [==============================] - 6s 19ms/step - loss: 0.0011 - accuracy: 0.9998 - val_loss: 2.6536 - val_accuracy: 0.6849\n",
      "Epoch 5/10\n",
      "321/321 [==============================] - 4s 12ms/step - loss: 8.3328e-04 - accuracy: 0.9998 - val_loss: 2.7694 - val_accuracy: 0.6822\n",
      "Epoch 6/10\n",
      "321/321 [==============================] - 6s 20ms/step - loss: 0.0147 - accuracy: 0.9944 - val_loss: 2.6152 - val_accuracy: 0.6684\n",
      "Epoch 7/10\n",
      "321/321 [==============================] - 7s 22ms/step - loss: 0.0067 - accuracy: 0.9978 - val_loss: 2.8754 - val_accuracy: 0.6590\n",
      "Epoch 8/10\n",
      "321/321 [==============================] - 4s 13ms/step - loss: 0.0018 - accuracy: 0.9994 - val_loss: 2.9760 - val_accuracy: 0.6965\n",
      "Epoch 9/10\n",
      "321/321 [==============================] - 7s 21ms/step - loss: 0.0025 - accuracy: 0.9991 - val_loss: 3.0362 - val_accuracy: 0.6769\n",
      "Epoch 10/10\n",
      "321/321 [==============================] - 4s 11ms/step - loss: 0.0029 - accuracy: 0.9991 - val_loss: 3.1154 - val_accuracy: 0.6666\n",
      "Fit history :  {'loss': [0.031378373503685, 0.009692797437310219, 0.004275722429156303, 0.0011355152819305658, 0.0008332818979397416, 0.014690188691020012, 0.006703461520373821, 0.0018077114364132285, 0.0024969547521322966, 0.0028902289923280478], 'accuracy': [0.9887049794197083, 0.9967867732048035, 0.998734176158905, 0.9998052716255188, 0.9998052716255188, 0.9944011569023132, 0.9977604746818542, 0.9993671178817749, 0.9991236329078674, 0.9991236329078674], 'val_loss': [2.346801996231079, 2.513092517852783, 2.3924078941345215, 2.653589963912964, 2.769408941268921, 2.6151857376098633, 2.8754045963287354, 2.976047992706299, 3.03621506690979, 3.115389347076416], 'val_accuracy': [0.6373000144958496, 0.6732000112533569, 0.6851000189781189, 0.6848999857902527, 0.682200014591217, 0.66839998960495, 0.6589999794960022, 0.6965000033378601, 0.6769000291824341, 0.6665999889373779]}\n"
     ]
    },
    {
     "name": "stderr",
     "output_type": "stream",
     "text": [
      "DEBUG flower 2023-11-28 23:48:00,847 | connection.py:121 | gRPC channel closed\n",
      "INFO flower 2023-11-28 23:48:00,853 | app.py:149 | Disconnect and shut down\n"
     ]
    },
    {
     "name": "stdout",
     "output_type": "stream",
     "text": [
      "Eval accuracy :  0.9363999962806702\n"
     ]
    }
   ],
   "source": [
    "class FlowerClient(fl.client.NumPyClient):\n",
    "    def get_parameters(self,config):\n",
    "        return model.get_weights()\n",
    "\n",
    "    def fit(self, parameters, config):\n",
    "        model.set_weights(parameters)\n",
    "        r = model.fit(x_train, y_train, epochs=10, batch_size=64, validation_data=(x_test, y_test), verbose=1)\n",
    "        hist = r.history\n",
    "        print(\"Fit history : \" ,hist)\n",
    "        return model.get_weights(), len(x_train), {}\n",
    "\n",
    "    def evaluate(self, parameters, config):\n",
    "        model.set_weights(parameters)\n",
    "        loss, accuracy = model.evaluate(x_test, y_test, verbose=0)\n",
    "        print(\"Eval accuracy : \", accuracy)\n",
    "        return loss, len(x_test), {\"accuracy\": accuracy}\n",
    "\n",
    "PORT=5010\n",
    "fl.client.start_numpy_client(\n",
    "        server_address=\"localhost:\"+str(PORT), \n",
    "        client=FlowerClient(), \n",
    "        grpc_max_message_length = 1024*1024*1024\n",
    ")"
   ]
  },
  {
   "cell_type": "code",
   "execution_count": null,
   "id": "ea2748ed",
   "metadata": {},
   "outputs": [],
   "source": []
  }
 ],
 "metadata": {
  "kernelspec": {
   "display_name": "Python 3 (ipykernel)",
   "language": "python",
   "name": "python3"
  },
  "language_info": {
   "codemirror_mode": {
    "name": "ipython",
    "version": 3
   },
   "file_extension": ".py",
   "mimetype": "text/x-python",
   "name": "python",
   "nbconvert_exporter": "python",
   "pygments_lexer": "ipython3",
   "version": "3.9.13"
  }
 },
 "nbformat": 4,
 "nbformat_minor": 5
}
