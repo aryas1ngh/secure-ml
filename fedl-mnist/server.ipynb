{
 "cells": [
  {
   "cell_type": "code",
   "execution_count": 2,
   "id": "3435ebac",
   "metadata": {},
   "outputs": [
    {
     "name": "stderr",
     "output_type": "stream",
     "text": [
      "INFO flower 2023-11-28 23:44:47,344 | app.py:119 | Starting Flower server, config: ServerConfig(num_rounds=3, round_timeout=None)\n",
      "INFO flower 2023-11-28 23:44:47,371 | app.py:132 | Flower ECE: gRPC server running (3 rounds), SSL is disabled\n",
      "INFO flower 2023-11-28 23:44:47,372 | server.py:86 | Initializing global parameters\n",
      "INFO flower 2023-11-28 23:44:47,373 | server.py:270 | Requesting initial parameters from one random client\n",
      "INFO flower 2023-11-28 23:44:53,865 | server.py:274 | Received initial parameters from one random client\n",
      "INFO flower 2023-11-28 23:44:53,867 | server.py:88 | Evaluating initial parameters\n",
      "INFO flower 2023-11-28 23:44:53,868 | server.py:101 | FL starting\n",
      "DEBUG flower 2023-11-28 23:44:54,862 | server.py:215 | fit_round 1: strategy sampled 2 clients (out of 2)\n",
      "DEBUG flower 2023-11-28 23:45:45,445 | server.py:229 | fit_round 1 received 2 results and 0 failures\n",
      "WARNING flower 2023-11-28 23:45:45,485 | fedavg.py:243 | No fit_metrics_aggregation_fn provided\n"
     ]
    },
    {
     "name": "stdout",
     "output_type": "stream",
     "text": [
      "Saving round 1 aggregated_weights to npz file...\n"
     ]
    },
    {
     "name": "stderr",
     "output_type": "stream",
     "text": [
      "DEBUG flower 2023-11-28 23:45:47,850 | server.py:165 | evaluate_round 1: strategy sampled 2 clients (out of 2)\n",
      "DEBUG flower 2023-11-28 23:45:52,318 | server.py:179 | evaluate_round 1 received 2 results and 0 failures\n",
      "WARNING flower 2023-11-28 23:45:52,321 | fedavg.py:274 | No evaluate_metrics_aggregation_fn provided\n",
      "DEBUG flower 2023-11-28 23:45:52,322 | server.py:215 | fit_round 2: strategy sampled 2 clients (out of 2)\n",
      "DEBUG flower 2023-11-28 23:46:44,511 | server.py:229 | fit_round 2 received 2 results and 0 failures\n"
     ]
    },
    {
     "name": "stdout",
     "output_type": "stream",
     "text": [
      "Saving round 2 aggregated_weights to npz file...\n"
     ]
    },
    {
     "name": "stderr",
     "output_type": "stream",
     "text": [
      "DEBUG flower 2023-11-28 23:46:47,008 | server.py:165 | evaluate_round 2: strategy sampled 2 clients (out of 2)\n",
      "DEBUG flower 2023-11-28 23:46:54,333 | server.py:179 | evaluate_round 2 received 2 results and 0 failures\n",
      "DEBUG flower 2023-11-28 23:46:54,354 | server.py:215 | fit_round 3: strategy sampled 2 clients (out of 2)\n",
      "DEBUG flower 2023-11-28 23:47:51,532 | server.py:229 | fit_round 3 received 2 results and 0 failures\n"
     ]
    },
    {
     "name": "stdout",
     "output_type": "stream",
     "text": [
      "Saving round 3 aggregated_weights to npz file...\n"
     ]
    },
    {
     "name": "stderr",
     "output_type": "stream",
     "text": [
      "DEBUG flower 2023-11-28 23:47:53,880 | server.py:165 | evaluate_round 3: strategy sampled 2 clients (out of 2)\n",
      "DEBUG flower 2023-11-28 23:48:00,800 | server.py:179 | evaluate_round 3 received 2 results and 0 failures\n",
      "INFO flower 2023-11-28 23:48:00,808 | server.py:144 | FL finished in 186.9386407\n",
      "INFO flower 2023-11-28 23:48:00,810 | app.py:180 | app_fit: losses_distributed [(1, 0.4277659058570862), (2, 0.32093989849090576), (3, 0.2257644236087799)]\n",
      "INFO flower 2023-11-28 23:48:00,812 | app.py:181 | app_fit: metrics_distributed {}\n",
      "INFO flower 2023-11-28 23:48:00,813 | app.py:182 | app_fit: losses_centralized []\n",
      "INFO flower 2023-11-28 23:48:00,814 | app.py:183 | app_fit: metrics_centralized {}\n"
     ]
    },
    {
     "data": {
      "text/plain": [
       "History (loss, distributed):\n",
       "\tround 1: 0.4277659058570862\n",
       "\tround 2: 0.32093989849090576\n",
       "\tround 3: 0.2257644236087799"
      ]
     },
     "execution_count": 2,
     "metadata": {},
     "output_type": "execute_result"
    }
   ],
   "source": [
    "import flwr as fl\n",
    "import sys\n",
    "import numpy as np\n",
    "from tensorflow import keras\n",
    "import os\n",
    "from keras.models import Sequential\n",
    "from keras.layers import Conv2D, MaxPooling2D, Flatten, Dense\n",
    "\n",
    "# class SaveModelStrategy(fl.server.strategy.FedAvg):\n",
    "#     def aggregate_fit(\n",
    "#         self,\n",
    "#         rnd,\n",
    "#         results,\n",
    "#         failures\n",
    "#     ):\n",
    "#         aggregated_weights = super().aggregate_fit(rnd, results, failures)\n",
    "#         if aggregated_weights is not None:\n",
    "#             print(f\"Saving round {rnd} aggregated_weights...\")\n",
    "#             np.savez(f\"round-{rnd}-weights.npz\", *aggregated_weights, allow_pickle=True)\n",
    "            \n",
    "#         return aggregated_weights\n",
    "\n",
    "global_model = keras.Sequential([\n",
    "            keras.layers.Flatten(input_shape=(28,28)),\n",
    "            keras.layers.Dense(128, activation='relu'),\n",
    "            keras.layers.Dense(256, activation='relu'),\n",
    "            keras.layers.Dense(10, activation='softmax')\n",
    "        ])\n",
    "# model = Sequential()\n",
    "# model.add(Conv2D(32, (3, 3), activation='relu', input_shape=(28, 28, 1)))\n",
    "# model.add(MaxPooling2D((2, 2)))\n",
    "# model.add(Conv2D(64, (3, 3), activation='relu'))\n",
    "# model.add(MaxPooling2D((2, 2)))\n",
    "# model.add(Conv2D(64, (3, 3), activation='relu'))\n",
    "# model.add(Flatten())\n",
    "# model.add(Dense(64, activation='relu'))\n",
    "# model.add(Dense(10, activation='softmax'))\n",
    "\n",
    "\n",
    "class SaveModelStrategy(fl.server.strategy.FedAvg):\n",
    "    def __init__(self, *args, **kwargs):\n",
    "        super().__init__(*args, **kwargs)\n",
    "        self.save_dir = './'\n",
    "\n",
    "    def aggregate_fit(self, rnd, results, failures):\n",
    "        aggregated_weights, agg_metrics = super().aggregate_fit(rnd, results, failures)\n",
    "        if aggregated_weights is not None:\n",
    "            print(f\"Saving round {rnd} aggregated_weights to npz file...\") \n",
    "            aggregated_ndarrays: List[np.ndarray] = fl.common.parameters_to_ndarrays(aggregated_weights)\n",
    "            np.savez(f\"round-{rnd}-weights.npz\", *aggregated_ndarrays)\n",
    "            global_model.set_weights(aggregated_ndarrays)\n",
    "        return aggregated_weights, agg_metrics\n",
    "\n",
    "\n",
    "\n",
    "strategy = SaveModelStrategy()\n",
    "PORT=5010\n",
    "fl.server.start_server(\n",
    "        server_address = 'localhost:'+str(PORT), \n",
    "        config=fl.server.ServerConfig(num_rounds=3) ,\n",
    "        grpc_max_message_length = 1024*1024*1024, strategy = strategy)\n",
    "        "
   ]
  },
  {
   "cell_type": "code",
   "execution_count": 11,
   "id": "35cef60b",
   "metadata": {},
   "outputs": [
    {
     "name": "stdout",
     "output_type": "stream",
     "text": [
      "Model: \"sequential_3\"\n",
      "_________________________________________________________________\n",
      " Layer (type)                Output Shape              Param #   \n",
      "=================================================================\n",
      " flatten_3 (Flatten)         (None, 784)               0         \n",
      "                                                                 \n",
      " dense_9 (Dense)             (None, 128)               100480    \n",
      "                                                                 \n",
      " dense_10 (Dense)            (None, 256)               33024     \n",
      "                                                                 \n",
      " dense_11 (Dense)            (None, 10)                2570      \n",
      "                                                                 \n",
      "=================================================================\n",
      "Total params: 136,074\n",
      "Trainable params: 136,074\n",
      "Non-trainable params: 0\n",
      "_________________________________________________________________\n"
     ]
    }
   ],
   "source": [
    "global_model.summary()"
   ]
  },
  {
   "cell_type": "code",
   "execution_count": 12,
   "id": "6ff4965c",
   "metadata": {},
   "outputs": [
    {
     "data": {
      "text/plain": [
       "[array([[-0.06576853, -0.03796841, -0.03208628, ...,  0.0361251 ,\n",
       "         -0.05090229,  0.00166951],\n",
       "        [-0.03291868, -0.04695641,  0.07912853, ...,  0.08003717,\n",
       "          0.08009898, -0.04726976],\n",
       "        [ 0.02718371, -0.05731468, -0.01467272, ..., -0.04320089,\n",
       "         -0.00837144,  0.0511827 ],\n",
       "        ...,\n",
       "        [ 0.06960624, -0.0214816 , -0.01851103, ...,  0.0710083 ,\n",
       "          0.00209894, -0.05163113],\n",
       "        [-0.06784113,  0.06735349,  0.03802332, ..., -0.06084887,\n",
       "         -0.07804901, -0.07424384],\n",
       "        [-0.03585071, -0.00941872,  0.0608483 , ..., -0.01503462,\n",
       "         -0.03089369,  0.00177036]], dtype=float32),\n",
       " array([ 0.04866719, -0.00866843,  0.0155193 ,  0.03632028,  0.02947935,\n",
       "        -0.03273496,  0.02243583, -0.02575295,  0.0187433 ,  0.01481763,\n",
       "        -0.01861057,  0.04988173,  0.03360007,  0.07139365, -0.00533522,\n",
       "         0.04732795, -0.04423813, -0.03461048, -0.03922785, -0.00259434,\n",
       "        -0.0467128 ,  0.01691433,  0.0304389 ,  0.05195938,  0.01429653,\n",
       "        -0.0265482 ,  0.0203721 ,  0.04677779,  0.03786235,  0.0340545 ,\n",
       "         0.02593129,  0.05364781, -0.00023454,  0.00864709,  0.04220794,\n",
       "         0.02799814, -0.01691627, -0.02422363, -0.01915795, -0.03598962,\n",
       "         0.01791774, -0.02781963,  0.00045404,  0.02518038,  0.00807729,\n",
       "         0.01858394,  0.00539233, -0.00999597, -0.01589541,  0.0458583 ,\n",
       "         0.01656936,  0.01162991, -0.01820325,  0.03778182,  0.06729022,\n",
       "        -0.01934544,  0.0016247 ,  0.00495047,  0.01331858, -0.02875863,\n",
       "        -0.02067307,  0.02421264,  0.00897947, -0.04169   , -0.04129437,\n",
       "         0.06318624,  0.01923329,  0.01319565, -0.0166556 ,  0.00511463,\n",
       "         0.03285645, -0.00272499, -0.0232866 , -0.00534937,  0.00549949,\n",
       "         0.0353702 , -0.02422942,  0.01052573, -0.03253518,  0.00163911,\n",
       "        -0.00626262, -0.04545536,  0.02273633, -0.04415588, -0.02733593,\n",
       "         0.0609742 , -0.03999969, -0.00042668,  0.07392216,  0.0016388 ,\n",
       "        -0.002717  , -0.02594693, -0.0001238 ,  0.02180764,  0.00038475,\n",
       "         0.091251  , -0.01251058,  0.02140771, -0.0509287 ,  0.02726474,\n",
       "        -0.01239446,  0.00874454,  0.04408634, -0.03793662,  0.06104071,\n",
       "         0.01685261,  0.02144388, -0.03613836, -0.03208486,  0.04499571,\n",
       "         0.01024762, -0.05677211,  0.02073082, -0.00572371,  0.01602768,\n",
       "         0.03577758,  0.04368544, -0.02391966, -0.02985582, -0.00964583,\n",
       "        -0.03108162,  0.01755299,  0.0474028 ,  0.01451694,  0.00259207,\n",
       "        -0.07893191, -0.01601224, -0.01467852], dtype=float32),\n",
       " array([[ 0.03482197,  0.10869693,  0.03926558, ..., -0.1398715 ,\n",
       "         -0.11038088,  0.09658492],\n",
       "        [ 0.08899038, -0.00693075, -0.06277919, ..., -0.08776101,\n",
       "          0.04809669, -0.07500571],\n",
       "        [-0.09996416, -0.15812258, -0.17853405, ..., -0.19770731,\n",
       "         -0.01909788,  0.01469225],\n",
       "        ...,\n",
       "        [-0.11502509,  0.08694332, -0.08020404, ..., -0.01273143,\n",
       "          0.10141575, -0.08362927],\n",
       "        [-0.04814281, -0.01823891, -0.14198168, ..., -0.1153878 ,\n",
       "         -0.06118566,  0.06194527],\n",
       "        [ 0.03199338, -0.20249669,  0.14761503, ...,  0.00945154,\n",
       "         -0.17004108,  0.12051742]], dtype=float32),\n",
       " array([-0.01570845, -0.00778411,  0.13057588, -0.03670746,  0.06939711,\n",
       "         0.08417844,  0.11265482,  0.03711176,  0.10083418,  0.08687948,\n",
       "        -0.02981171, -0.03826077,  0.10538028,  0.10901235,  0.07023195,\n",
       "        -0.04616711,  0.03883963, -0.01889176, -0.00399895, -0.04889647,\n",
       "         0.04185501,  0.0290455 ,  0.01018353, -0.02764598,  0.08733948,\n",
       "        -0.01428454,  0.06291133,  0.03480249,  0.16206253, -0.03035242,\n",
       "         0.06785233,  0.03290383, -0.00380269,  0.04197846, -0.03616023,\n",
       "        -0.01324299,  0.09535567,  0.04063111, -0.04412786, -0.005044  ,\n",
       "         0.02163874, -0.00592269, -0.06943703, -0.09459706,  0.04967164,\n",
       "         0.10631981,  0.04070926, -0.05670641, -0.00255314,  0.06365655,\n",
       "         0.1384585 , -0.04149003,  0.02953132,  0.02326104,  0.00841052,\n",
       "         0.07228456, -0.05841311,  0.01252569,  0.04484375,  0.02911033,\n",
       "         0.0385086 ,  0.09916055,  0.07172156, -0.02219952, -0.05088823,\n",
       "        -0.0510851 , -0.00637926,  0.11424178,  0.07460999, -0.01644921,\n",
       "        -0.02817834, -0.04774832, -0.02187582,  0.07666776, -0.04786605,\n",
       "         0.03892022,  0.10468844,  0.13452132, -0.02172205, -0.0139302 ,\n",
       "         0.03186358, -0.05119811, -0.00284367,  0.00933502, -0.04724917,\n",
       "         0.02173711, -0.01481361,  0.03596076, -0.00558156, -0.05242233,\n",
       "        -0.06405655, -0.0165405 , -0.03840023,  0.00468465, -0.02449285,\n",
       "         0.03005024,  0.01300147, -0.02541079, -0.01977972,  0.07930312,\n",
       "        -0.03760955,  0.02018191, -0.06051625,  0.03195013,  0.02107064,\n",
       "         0.0163567 ,  0.00514375, -0.02418103, -0.07873254, -0.02850973,\n",
       "         0.00444932,  0.0195265 ,  0.0375836 ,  0.05062089, -0.01263442,\n",
       "        -0.02109939,  0.05675712, -0.03270177,  0.00195533, -0.01855456,\n",
       "         0.11801857,  0.03001815, -0.01820404,  0.03102839,  0.11639759,\n",
       "        -0.01648554, -0.05470134,  0.03214248,  0.08606419,  0.11671397,\n",
       "         0.00483927,  0.02370148,  0.01176768,  0.02679307, -0.02217896,\n",
       "         0.10042291,  0.02667387,  0.04131865,  0.01385253,  0.06004419,\n",
       "         0.02769559,  0.01399059,  0.07049079, -0.00234064,  0.00302138,\n",
       "         0.00916603,  0.02900359, -0.04768963, -0.00676946, -0.01498734,\n",
       "         0.0645292 , -0.01980992,  0.07942585,  0.10745276,  0.00420627,\n",
       "        -0.03060845,  0.0428165 ,  0.04099055,  0.01929726,  0.05955377,\n",
       "         0.03775727,  0.06346627,  0.11549034, -0.00263725,  0.11948469,\n",
       "         0.04608063,  0.12600079,  0.07200748, -0.02927545, -0.01436699,\n",
       "         0.02876537,  0.06191668,  0.01073873, -0.02862463,  0.08071382,\n",
       "        -0.02814411,  0.05773763,  0.10709821, -0.02304856,  0.0347886 ,\n",
       "        -0.02820175,  0.04638243,  0.0367155 ,  0.10120551, -0.03188876,\n",
       "         0.04715543, -0.02031255,  0.01234979,  0.01704789,  0.06222707,\n",
       "         0.05249922,  0.10766184,  0.002465  ,  0.04256904, -0.04091498,\n",
       "        -0.02729218,  0.03699255, -0.06048429,  0.00618849, -0.05764021,\n",
       "         0.00813094,  0.06603254, -0.05052879, -0.01042855,  0.07748671,\n",
       "         0.01257819, -0.03369505,  0.07183338, -0.01791355, -0.02741024,\n",
       "         0.04857819,  0.06227774, -0.00743956,  0.02588848,  0.0021257 ,\n",
       "        -0.01266996, -0.04978672,  0.1323317 ,  0.03867689, -0.12140246,\n",
       "         0.06834114, -0.06411939,  0.02604564,  0.06719519,  0.05532898,\n",
       "         0.04146136,  0.01109107, -0.04455703, -0.01626844, -0.00646102,\n",
       "        -0.02176182, -0.06720047, -0.03114344, -0.0576474 , -0.00467311,\n",
       "        -0.01067342, -0.01711116,  0.06329729, -0.0566921 , -0.04783764,\n",
       "         0.08742431,  0.01419002,  0.09929838,  0.00634346, -0.09152629,\n",
       "         0.06701226, -0.03940732,  0.03581951,  0.04623741,  0.04727939,\n",
       "         0.05683913, -0.04880729, -0.01333381, -0.01089243, -0.01850392,\n",
       "         0.09694551], dtype=float32),\n",
       " array([[ 0.01791108, -0.16624735,  0.05060296, ...,  0.11654241,\n",
       "          0.05278407,  0.07546109],\n",
       "        [ 0.11624182,  0.0835292 , -0.14876539, ..., -0.0471655 ,\n",
       "          0.05346578, -0.01021345],\n",
       "        [-0.26375267, -0.28118193, -0.19632158, ..., -0.13103402,\n",
       "          0.06034857,  0.1434018 ],\n",
       "        ...,\n",
       "        [-0.07093038,  0.11513702, -0.07823023, ..., -0.03129369,\n",
       "          0.05500738,  0.02688665],\n",
       "        [-0.1628544 , -0.13641746,  0.10143055, ..., -0.02726455,\n",
       "         -0.07495795, -0.38505   ],\n",
       "        [-0.13157077, -0.03904438, -0.14404985, ...,  0.0544914 ,\n",
       "          0.11772037,  0.0115631 ]], dtype=float32),\n",
       " array([-0.12003945, -0.12647814, -0.06719825, -0.09272195, -0.04222822,\n",
       "        -0.02524273, -0.04818506, -0.06425689,  0.01909273, -0.01002429],\n",
       "       dtype=float32)]"
      ]
     },
     "execution_count": 12,
     "metadata": {},
     "output_type": "execute_result"
    }
   ],
   "source": [
    "global_model.get_weights()"
   ]
  },
  {
   "cell_type": "code",
   "execution_count": 13,
   "id": "0331345c",
   "metadata": {},
   "outputs": [
    {
     "name": "stdout",
     "output_type": "stream",
     "text": [
      "313/313 [==============================] - 2s 5ms/step - loss: 0.1554 - accuracy: 0.9497\n",
      "[0.15535546839237213, 0.9496999979019165]\n"
     ]
    }
   ],
   "source": [
    "import tensorflow as tf\n",
    "\n",
    "global_model.compile(\"adam\", \"sparse_categorical_crossentropy\", metrics=[\"accuracy\"])\n",
    "(_,_), (x_test, y_test) = tf.keras.datasets.mnist.load_data()\n",
    "x_test = x_test/255.0\n",
    "\n",
    "x_test = x_test.reshape(x_test.shape[0],28,28,1)\n",
    "acc = global_model.evaluate(x_test, y_test)\n",
    "\n",
    "print(acc)"
   ]
  },
  {
   "cell_type": "code",
   "execution_count": null,
   "id": "eaed2b58",
   "metadata": {},
   "outputs": [],
   "source": []
  }
 ],
 "metadata": {
  "kernelspec": {
   "display_name": "Python 3 (ipykernel)",
   "language": "python",
   "name": "python3"
  },
  "language_info": {
   "codemirror_mode": {
    "name": "ipython",
    "version": 3
   },
   "file_extension": ".py",
   "mimetype": "text/x-python",
   "name": "python",
   "nbconvert_exporter": "python",
   "pygments_lexer": "ipython3",
   "version": "3.9.13"
  }
 },
 "nbformat": 4,
 "nbformat_minor": 5
}
